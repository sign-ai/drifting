{
 "cells": [
  {
   "cell_type": "markdown",
   "metadata": {},
   "source": []
  },
  {
   "cell_type": "code",
   "execution_count": 1,
   "metadata": {},
   "outputs": [],
   "source": [
    "import pandas as pd\n",
    "import numpy as np\n",
    "import requests\n",
    "from mlserver.codecs import PandasCodec\n",
    "\n",
    "red = pd.read_csv(\n",
    "    \"https://storage.googleapis.com/seldon-datasets/wine_quality/winequality-red.csv\", sep=';'\n",
    ")\n",
    "white = pd.read_csv(\n",
    "    \"https://storage.googleapis.com/seldon-datasets/wine_quality/winequality-white.csv\", sep=';'\n",
    ")\n",
    "white = white.drop([\"quality\"], axis=1)\n",
    "white = white[:500].astype(np.float64)\n",
    "\n"
   ]
  },
  {
   "cell_type": "code",
   "execution_count": 2,
   "metadata": {},
   "outputs": [],
   "source": [
    "\n",
    "# params = {\n",
    "#     \"detector_name\": \"WineDriftDetector\",\n",
    "#     \"data_type\": \"tabular\",\n",
    "# }\n",
    "# training_request = PandasCodec.encode_request(white)\n",
    "\n",
    "# endpoint = \"http://localhost:8080/v2/models/fit/\"\n",
    "# response = requests.post(endpoint, json=training_request.dict(), params=params)"
   ]
  },
  {
   "cell_type": "code",
   "execution_count": 3,
   "metadata": {},
   "outputs": [
    {
     "name": "stderr",
     "output_type": "stream",
     "text": [
      "/opt/homebrew/Caskroom/miniforge/base/envs/drifting/lib/python3.10/site-packages/tqdm/auto.py:22: TqdmWarning: IProgress not found. Please update jupyter and ipywidgets. See https://ipywidgets.readthedocs.io/en/stable/user_install.html\n",
      "  from .autonotebook import tqdm as notebook_tqdm\n"
     ]
    },
    {
     "ename": "TypeError",
     "evalue": "",
     "output_type": "error",
     "traceback": [
      "\u001b[0;31m---------------------------------------------------------------------------\u001b[0m",
      "\u001b[0;31mImportError\u001b[0m                               Traceback (most recent call last)",
      "File \u001b[0;32m/opt/homebrew/Caskroom/miniforge/base/envs/drifting/lib/python3.10/site-packages/alibi_detect/utils/missing_optional_dependency.py:101\u001b[0m, in \u001b[0;36mimport_optional\u001b[0;34m(module_name, names)\u001b[0m\n\u001b[1;32m    100\u001b[0m \u001b[39mtry\u001b[39;00m:\n\u001b[0;32m--> 101\u001b[0m     module \u001b[39m=\u001b[39m import_module(module_name)\n\u001b[1;32m    102\u001b[0m     \u001b[39mif\u001b[39;00m names \u001b[39mis\u001b[39;00m \u001b[39mnot\u001b[39;00m \u001b[39mNone\u001b[39;00m:\n",
      "File \u001b[0;32m/opt/homebrew/Caskroom/miniforge/base/envs/drifting/lib/python3.10/importlib/__init__.py:126\u001b[0m, in \u001b[0;36mimport_module\u001b[0;34m(name, package)\u001b[0m\n\u001b[1;32m    125\u001b[0m         level \u001b[39m+\u001b[39m\u001b[39m=\u001b[39m \u001b[39m1\u001b[39m\n\u001b[0;32m--> 126\u001b[0m \u001b[39mreturn\u001b[39;00m _bootstrap\u001b[39m.\u001b[39;49m_gcd_import(name[level:], package, level)\n",
      "File \u001b[0;32m<frozen importlib._bootstrap>:1050\u001b[0m, in \u001b[0;36m_gcd_import\u001b[0;34m(name, package, level)\u001b[0m\n",
      "File \u001b[0;32m<frozen importlib._bootstrap>:1027\u001b[0m, in \u001b[0;36m_find_and_load\u001b[0;34m(name, import_)\u001b[0m\n",
      "File \u001b[0;32m<frozen importlib._bootstrap>:1006\u001b[0m, in \u001b[0;36m_find_and_load_unlocked\u001b[0;34m(name, import_)\u001b[0m\n",
      "File \u001b[0;32m<frozen importlib._bootstrap>:688\u001b[0m, in \u001b[0;36m_load_unlocked\u001b[0;34m(spec)\u001b[0m\n",
      "File \u001b[0;32m<frozen importlib._bootstrap_external>:883\u001b[0m, in \u001b[0;36mexec_module\u001b[0;34m(self, module)\u001b[0m\n",
      "File \u001b[0;32m<frozen importlib._bootstrap>:241\u001b[0m, in \u001b[0;36m_call_with_frames_removed\u001b[0;34m(f, *args, **kwds)\u001b[0m\n",
      "File \u001b[0;32m/opt/homebrew/Caskroom/miniforge/base/envs/drifting/lib/python3.10/site-packages/alibi_detect/models/tensorflow/embedding.py:3\u001b[0m\n\u001b[1;32m      2\u001b[0m \u001b[39mimport\u001b[39;00m \u001b[39mtensorflow\u001b[39;00m \u001b[39mas\u001b[39;00m \u001b[39mtf\u001b[39;00m\n\u001b[0;32m----> 3\u001b[0m \u001b[39mfrom\u001b[39;00m \u001b[39mtransformers\u001b[39;00m \u001b[39mimport\u001b[39;00m TFAutoModel, AutoConfig\n\u001b[1;32m      4\u001b[0m \u001b[39mfrom\u001b[39;00m \u001b[39mtyping\u001b[39;00m \u001b[39mimport\u001b[39;00m Dict, List\n",
      "File \u001b[0;32m/opt/homebrew/Caskroom/miniforge/base/envs/drifting/lib/python3.10/site-packages/transformers/__init__.py:30\u001b[0m\n\u001b[1;32m     29\u001b[0m \u001b[39m# Check the dependencies satisfy the minimal versions required.\u001b[39;00m\n\u001b[0;32m---> 30\u001b[0m \u001b[39mfrom\u001b[39;00m \u001b[39m.\u001b[39;00m \u001b[39mimport\u001b[39;00m dependency_versions_check\n\u001b[1;32m     31\u001b[0m \u001b[39mfrom\u001b[39;00m \u001b[39m.\u001b[39;00m\u001b[39mutils\u001b[39;00m \u001b[39mimport\u001b[39;00m (\n\u001b[1;32m     32\u001b[0m     OptionalDependencyNotAvailable,\n\u001b[1;32m     33\u001b[0m     _LazyModule,\n\u001b[0;32m   (...)\u001b[0m\n\u001b[1;32m     43\u001b[0m     logging,\n\u001b[1;32m     44\u001b[0m )\n",
      "File \u001b[0;32m/opt/homebrew/Caskroom/miniforge/base/envs/drifting/lib/python3.10/site-packages/transformers/dependency_versions_check.py:41\u001b[0m\n\u001b[1;32m     39\u001b[0m             \u001b[39mcontinue\u001b[39;00m  \u001b[39m# not required, check version only if installed\u001b[39;00m\n\u001b[0;32m---> 41\u001b[0m     require_version_core(deps[pkg])\n\u001b[1;32m     42\u001b[0m \u001b[39melse\u001b[39;00m:\n",
      "File \u001b[0;32m/opt/homebrew/Caskroom/miniforge/base/envs/drifting/lib/python3.10/site-packages/transformers/utils/versions.py:120\u001b[0m, in \u001b[0;36mrequire_version_core\u001b[0;34m(requirement)\u001b[0m\n\u001b[1;32m    119\u001b[0m hint \u001b[39m=\u001b[39m \u001b[39m\"\u001b[39m\u001b[39mTry: pip install transformers -U or pip install -e \u001b[39m\u001b[39m'\u001b[39m\u001b[39m.[dev]\u001b[39m\u001b[39m'\u001b[39m\u001b[39m if you\u001b[39m\u001b[39m'\u001b[39m\u001b[39mre working with git main\u001b[39m\u001b[39m\"\u001b[39m\n\u001b[0;32m--> 120\u001b[0m \u001b[39mreturn\u001b[39;00m require_version(requirement, hint)\n",
      "File \u001b[0;32m/opt/homebrew/Caskroom/miniforge/base/envs/drifting/lib/python3.10/site-packages/transformers/utils/versions.py:114\u001b[0m, in \u001b[0;36mrequire_version\u001b[0;34m(requirement, hint)\u001b[0m\n\u001b[1;32m    113\u001b[0m \u001b[39mfor\u001b[39;00m op, want_ver \u001b[39min\u001b[39;00m wanted\u001b[39m.\u001b[39mitems():\n\u001b[0;32m--> 114\u001b[0m     _compare_versions(op, got_ver, want_ver, requirement, pkg, hint)\n",
      "File \u001b[0;32m/opt/homebrew/Caskroom/miniforge/base/envs/drifting/lib/python3.10/site-packages/transformers/utils/versions.py:49\u001b[0m, in \u001b[0;36m_compare_versions\u001b[0;34m(op, got_ver, want_ver, requirement, pkg, hint)\u001b[0m\n\u001b[1;32m     48\u001b[0m \u001b[39mif\u001b[39;00m \u001b[39mnot\u001b[39;00m ops[op](version\u001b[39m.\u001b[39mparse(got_ver), version\u001b[39m.\u001b[39mparse(want_ver)):\n\u001b[0;32m---> 49\u001b[0m     \u001b[39mraise\u001b[39;00m \u001b[39mImportError\u001b[39;00m(\n\u001b[1;32m     50\u001b[0m         \u001b[39mf\u001b[39m\u001b[39m\"\u001b[39m\u001b[39m{\u001b[39;00mrequirement\u001b[39m}\u001b[39;00m\u001b[39m is required for a normal functioning of this module, but found \u001b[39m\u001b[39m{\u001b[39;00mpkg\u001b[39m}\u001b[39;00m\u001b[39m==\u001b[39m\u001b[39m{\u001b[39;00mgot_ver\u001b[39m}\u001b[39;00m\u001b[39m.\u001b[39m\u001b[39m{\u001b[39;00mhint\u001b[39m}\u001b[39;00m\u001b[39m\"\u001b[39m\n\u001b[1;32m     51\u001b[0m     )\n",
      "\u001b[0;31mImportError\u001b[0m: tokenizers>=0.11.1,!=0.11.3,<0.13 is required for a normal functioning of this module, but found tokenizers==0.13.2.\nTry: pip install transformers -U or pip install -e '.[dev]' if you're working with git main",
      "\nDuring handling of the above exception, another exception occurred:\n",
      "\u001b[0;31mTypeError\u001b[0m                                 Traceback (most recent call last)",
      "Cell \u001b[0;32mIn[3], line 31\u001b[0m\n\u001b[1;32m     19\u001b[0m \u001b[38;5;66;03m# params = {\u001b[39;00m\n\u001b[1;32m     20\u001b[0m \u001b[38;5;66;03m#     \"detector_name\": \"WineDriftDetector\",\u001b[39;00m\n\u001b[1;32m     21\u001b[0m \u001b[38;5;66;03m#     \"data_type\": \"tabular\",\u001b[39;00m\n\u001b[0;32m   (...)\u001b[0m\n\u001b[1;32m     25\u001b[0m \u001b[38;5;66;03m# endpoint = \"http://localhost:8080/v2/models/fit/\"\u001b[39;00m\n\u001b[1;32m     26\u001b[0m \u001b[38;5;66;03m# response = requests.post(endpoint, json=training_request.dict(), params=params)\u001b[39;00m\n\u001b[1;32m     28\u001b[0m \u001b[38;5;28;01mimport\u001b[39;00m \u001b[38;5;21;01mtorch\u001b[39;00m\n\u001b[0;32m---> 31\u001b[0m \u001b[38;5;28;01mfrom\u001b[39;00m \u001b[38;5;21;01malibi_detect\u001b[39;00m\u001b[38;5;21;01m.\u001b[39;00m\u001b[38;5;21;01mcd\u001b[39;00m \u001b[38;5;28;01mimport\u001b[39;00m MMDDriftOnline\n\u001b[1;32m     32\u001b[0m \u001b[38;5;28;01mfrom\u001b[39;00m \u001b[38;5;21;01msklearn\u001b[39;00m\u001b[38;5;21;01m.\u001b[39;00m\u001b[38;5;21;01mdecomposition\u001b[39;00m \u001b[38;5;28;01mimport\u001b[39;00m PCA\n\u001b[1;32m     34\u001b[0m torch\u001b[38;5;241m.\u001b[39mmanual_seed(\u001b[38;5;241m0\u001b[39m)\n",
      "File \u001b[0;32m/opt/homebrew/Caskroom/miniforge/base/envs/drifting/lib/python3.10/site-packages/alibi_detect/__init__.py:1\u001b[0m\n\u001b[0;32m----> 1\u001b[0m \u001b[39mfrom\u001b[39;00m \u001b[39m.\u001b[39;00m \u001b[39mimport\u001b[39;00m ad, cd, models, od, utils, saving\n\u001b[1;32m      2\u001b[0m \u001b[39mfrom\u001b[39;00m \u001b[39m.\u001b[39;00m\u001b[39mversion\u001b[39;00m \u001b[39mimport\u001b[39;00m __version__  \u001b[39m# noqa F401\u001b[39;00m\n\u001b[1;32m      4\u001b[0m __all__ \u001b[39m=\u001b[39m [\u001b[39m\"\u001b[39m\u001b[39mad\u001b[39m\u001b[39m\"\u001b[39m, \u001b[39m\"\u001b[39m\u001b[39mcd\u001b[39m\u001b[39m\"\u001b[39m, \u001b[39m\"\u001b[39m\u001b[39mmodels\u001b[39m\u001b[39m\"\u001b[39m, \u001b[39m\"\u001b[39m\u001b[39mod\u001b[39m\u001b[39m\"\u001b[39m, \u001b[39m\"\u001b[39m\u001b[39mutils\u001b[39m\u001b[39m\"\u001b[39m, \u001b[39m\"\u001b[39m\u001b[39msaving\u001b[39m\u001b[39m\"\u001b[39m]\n",
      "File \u001b[0;32m/opt/homebrew/Caskroom/miniforge/base/envs/drifting/lib/python3.10/site-packages/alibi_detect/ad/__init__.py:3\u001b[0m\n\u001b[1;32m      1\u001b[0m \u001b[39mfrom\u001b[39;00m \u001b[39malibi_detect\u001b[39;00m\u001b[39m.\u001b[39;00m\u001b[39mutils\u001b[39;00m\u001b[39m.\u001b[39;00m\u001b[39mmissing_optional_dependency\u001b[39;00m \u001b[39mimport\u001b[39;00m import_optional\n\u001b[0;32m----> 3\u001b[0m AdversarialAE \u001b[39m=\u001b[39m import_optional(\u001b[39m'\u001b[39;49m\u001b[39malibi_detect.ad.adversarialae\u001b[39;49m\u001b[39m'\u001b[39;49m, names\u001b[39m=\u001b[39;49m[\u001b[39m'\u001b[39;49m\u001b[39mAdversarialAE\u001b[39;49m\u001b[39m'\u001b[39;49m])\n\u001b[1;32m      4\u001b[0m ModelDistillation \u001b[39m=\u001b[39m import_optional(\u001b[39m'\u001b[39m\u001b[39malibi_detect.ad.model_distillation\u001b[39m\u001b[39m'\u001b[39m, names\u001b[39m=\u001b[39m[\u001b[39m'\u001b[39m\u001b[39mModelDistillation\u001b[39m\u001b[39m'\u001b[39m])\n\u001b[1;32m      6\u001b[0m __all__ \u001b[39m=\u001b[39m [\n\u001b[1;32m      7\u001b[0m     \u001b[39m\"\u001b[39m\u001b[39mAdversarialAE\u001b[39m\u001b[39m\"\u001b[39m,\n\u001b[1;32m      8\u001b[0m     \u001b[39m\"\u001b[39m\u001b[39mModelDistillation\u001b[39m\u001b[39m\"\u001b[39m\n\u001b[1;32m      9\u001b[0m ]\n",
      "File \u001b[0;32m/opt/homebrew/Caskroom/miniforge/base/envs/drifting/lib/python3.10/site-packages/alibi_detect/utils/missing_optional_dependency.py:101\u001b[0m, in \u001b[0;36mimport_optional\u001b[0;34m(module_name, names)\u001b[0m\n\u001b[1;32m     82\u001b[0m \u001b[39m\u001b[39m\u001b[39m\"\"\"Import a module that depends on optional dependencies\u001b[39;00m\n\u001b[1;32m     83\u001b[0m \u001b[39mNote: This function is used to import modules that depend on optional dependencies. Because it mirrors the python\u001b[39;00m\n\u001b[1;32m     84\u001b[0m \u001b[39mimport functionality its return type has to be `Any`. Using objects imported with this function can lead to\u001b[39;00m\n\u001b[0;32m   (...)\u001b[0m\n\u001b[1;32m     98\u001b[0m \u001b[39mthe MissingDependency class above.\u001b[39;00m\n\u001b[1;32m     99\u001b[0m \u001b[39m\"\"\"\u001b[39;00m\n\u001b[1;32m    100\u001b[0m \u001b[39mtry\u001b[39;00m:\n\u001b[0;32m--> 101\u001b[0m     module \u001b[39m=\u001b[39m import_module(module_name)\n\u001b[1;32m    102\u001b[0m     \u001b[39mif\u001b[39;00m names \u001b[39mis\u001b[39;00m \u001b[39mnot\u001b[39;00m \u001b[39mNone\u001b[39;00m:\n\u001b[1;32m    103\u001b[0m         objs \u001b[39m=\u001b[39m \u001b[39mtuple\u001b[39m(\u001b[39mgetattr\u001b[39m(module, name) \u001b[39mfor\u001b[39;00m name \u001b[39min\u001b[39;00m names)\n",
      "File \u001b[0;32m/opt/homebrew/Caskroom/miniforge/base/envs/drifting/lib/python3.10/importlib/__init__.py:126\u001b[0m, in \u001b[0;36mimport_module\u001b[0;34m(name, package)\u001b[0m\n\u001b[1;32m    124\u001b[0m             \u001b[39mbreak\u001b[39;00m\n\u001b[1;32m    125\u001b[0m         level \u001b[39m+\u001b[39m\u001b[39m=\u001b[39m \u001b[39m1\u001b[39m\n\u001b[0;32m--> 126\u001b[0m \u001b[39mreturn\u001b[39;00m _bootstrap\u001b[39m.\u001b[39;49m_gcd_import(name[level:], package, level)\n",
      "File \u001b[0;32m/opt/homebrew/Caskroom/miniforge/base/envs/drifting/lib/python3.10/site-packages/alibi_detect/ad/adversarialae.py:9\u001b[0m\n\u001b[1;32m      5\u001b[0m \u001b[39mimport\u001b[39;00m \u001b[39mtensorflow\u001b[39;00m \u001b[39mas\u001b[39;00m \u001b[39mtf\u001b[39;00m\n\u001b[1;32m      6\u001b[0m \u001b[39mfrom\u001b[39;00m \u001b[39malibi_detect\u001b[39;00m\u001b[39m.\u001b[39;00m\u001b[39mbase\u001b[39;00m \u001b[39mimport\u001b[39;00m (BaseDetector, FitMixin, ThresholdMixin,\n\u001b[1;32m      7\u001b[0m                                adversarial_correction_dict,\n\u001b[1;32m      8\u001b[0m                                adversarial_prediction_dict)\n\u001b[0;32m----> 9\u001b[0m \u001b[39mfrom\u001b[39;00m \u001b[39malibi_detect\u001b[39;00m\u001b[39m.\u001b[39;00m\u001b[39mmodels\u001b[39;00m\u001b[39m.\u001b[39;00m\u001b[39mtensorflow\u001b[39;00m\u001b[39m.\u001b[39;00m\u001b[39mautoencoder\u001b[39;00m \u001b[39mimport\u001b[39;00m AE\n\u001b[1;32m     10\u001b[0m \u001b[39mfrom\u001b[39;00m \u001b[39malibi_detect\u001b[39;00m\u001b[39m.\u001b[39;00m\u001b[39mmodels\u001b[39;00m\u001b[39m.\u001b[39;00m\u001b[39mtensorflow\u001b[39;00m\u001b[39m.\u001b[39;00m\u001b[39mlosses\u001b[39;00m \u001b[39mimport\u001b[39;00m loss_adv_ae\n\u001b[1;32m     11\u001b[0m \u001b[39mfrom\u001b[39;00m \u001b[39malibi_detect\u001b[39;00m\u001b[39m.\u001b[39;00m\u001b[39mmodels\u001b[39;00m\u001b[39m.\u001b[39;00m\u001b[39mtensorflow\u001b[39;00m\u001b[39m.\u001b[39;00m\u001b[39mtrainer\u001b[39;00m \u001b[39mimport\u001b[39;00m trainer\n",
      "File \u001b[0;32m/opt/homebrew/Caskroom/miniforge/base/envs/drifting/lib/python3.10/site-packages/alibi_detect/models/tensorflow/__init__.py:8\u001b[0m\n\u001b[1;32m      1\u001b[0m \u001b[39mfrom\u001b[39;00m \u001b[39malibi_detect\u001b[39;00m\u001b[39m.\u001b[39;00m\u001b[39mutils\u001b[39;00m\u001b[39m.\u001b[39;00m\u001b[39mmissing_optional_dependency\u001b[39;00m \u001b[39mimport\u001b[39;00m import_optional\n\u001b[1;32m      4\u001b[0m AE, AEGMM, VAE, VAEGMM, Seq2Seq, eucl_cosim_features \u001b[39m=\u001b[39m import_optional(\n\u001b[1;32m      5\u001b[0m     \u001b[39m'\u001b[39m\u001b[39malibi_detect.models.tensorflow.autoencoder\u001b[39m\u001b[39m'\u001b[39m,\n\u001b[1;32m      6\u001b[0m     names\u001b[39m=\u001b[39m[\u001b[39m'\u001b[39m\u001b[39mAE\u001b[39m\u001b[39m'\u001b[39m, \u001b[39m'\u001b[39m\u001b[39mAEGMM\u001b[39m\u001b[39m'\u001b[39m, \u001b[39m'\u001b[39m\u001b[39mVAE\u001b[39m\u001b[39m'\u001b[39m, \u001b[39m'\u001b[39m\u001b[39mVAEGMM\u001b[39m\u001b[39m'\u001b[39m, \u001b[39m'\u001b[39m\u001b[39mSeq2Seq\u001b[39m\u001b[39m'\u001b[39m, \u001b[39m'\u001b[39m\u001b[39meucl_cosim_features\u001b[39m\u001b[39m'\u001b[39m])\n\u001b[0;32m----> 8\u001b[0m TransformerEmbedding \u001b[39m=\u001b[39m import_optional(\n\u001b[1;32m      9\u001b[0m     \u001b[39m'\u001b[39;49m\u001b[39malibi_detect.models.tensorflow.embedding\u001b[39;49m\u001b[39m'\u001b[39;49m,\n\u001b[1;32m     10\u001b[0m     names\u001b[39m=\u001b[39;49m[\u001b[39m'\u001b[39;49m\u001b[39mTransformerEmbedding\u001b[39;49m\u001b[39m'\u001b[39;49m])\n\u001b[1;32m     12\u001b[0m PixelCNN \u001b[39m=\u001b[39m import_optional(\n\u001b[1;32m     13\u001b[0m     \u001b[39m'\u001b[39m\u001b[39malibi_detect.models.tensorflow.pixelcnn\u001b[39m\u001b[39m'\u001b[39m,\n\u001b[1;32m     14\u001b[0m     names\u001b[39m=\u001b[39m[\u001b[39m'\u001b[39m\u001b[39mPixelCNN\u001b[39m\u001b[39m'\u001b[39m])\n\u001b[1;32m     16\u001b[0m resnet, scale_by_instance \u001b[39m=\u001b[39m import_optional(\n\u001b[1;32m     17\u001b[0m     \u001b[39m'\u001b[39m\u001b[39malibi_detect.models.tensorflow.resnet\u001b[39m\u001b[39m'\u001b[39m,\n\u001b[1;32m     18\u001b[0m     names\u001b[39m=\u001b[39m[\u001b[39m'\u001b[39m\u001b[39mresnet\u001b[39m\u001b[39m'\u001b[39m, \u001b[39m'\u001b[39m\u001b[39mscale_by_instance\u001b[39m\u001b[39m'\u001b[39m])\n",
      "File \u001b[0;32m/opt/homebrew/Caskroom/miniforge/base/envs/drifting/lib/python3.10/site-packages/alibi_detect/utils/missing_optional_dependency.py:108\u001b[0m, in \u001b[0;36mimport_optional\u001b[0;34m(module_name, names)\u001b[0m\n\u001b[1;32m    106\u001b[0m \u001b[39mexcept\u001b[39;00m (\u001b[39mImportError\u001b[39;00m, \u001b[39mModuleNotFoundError\u001b[39;00m) \u001b[39mas\u001b[39;00m err:\n\u001b[1;32m    107\u001b[0m     \u001b[39mif\u001b[39;00m err\u001b[39m.\u001b[39mname \u001b[39mis\u001b[39;00m \u001b[39mNone\u001b[39;00m:\n\u001b[0;32m--> 108\u001b[0m         \u001b[39mraise\u001b[39;00m \u001b[39mTypeError\u001b[39;00m()\n\u001b[1;32m    109\u001b[0m     dep_name, \u001b[39m*\u001b[39m_ \u001b[39m=\u001b[39m err\u001b[39m.\u001b[39mname\u001b[39m.\u001b[39msplit(\u001b[39m'\u001b[39m\u001b[39m.\u001b[39m\u001b[39m'\u001b[39m)\n\u001b[1;32m    110\u001b[0m     \u001b[39mif\u001b[39;00m \u001b[39mstr\u001b[39m(dep_name) \u001b[39mnot\u001b[39;00m \u001b[39min\u001b[39;00m ERROR_TYPES:\n",
      "\u001b[0;31mTypeError\u001b[0m: "
     ]
    }
   ],
   "source": [
    "import pandas as pd\n",
    "import numpy as np\n",
    "import requests\n",
    "from mlserver.codecs import PandasCodec\n",
    "import tensorflow\n",
    "\n",
    "red = pd.read_csv(\n",
    "    \"https://storage.googleapis.com/seldon-datasets/wine_quality/winequality-red.csv\",\n",
    "    sep=\";\",\n",
    ")\n",
    "white = pd.read_csv(\n",
    "    \"https://storage.googleapis.com/seldon-datasets/wine_quality/winequality-white.csv\",\n",
    "    sep=\";\",\n",
    ")\n",
    "white = white.drop([\"quality\"], axis=1)\n",
    "white = white[:500].astype(np.float64)\n",
    "\n",
    "\n",
    "# params = {\n",
    "#     \"detector_name\": \"WineDriftDetector\",\n",
    "#     \"data_type\": \"tabular\",\n",
    "# }\n",
    "# training_request = PandasCodec.encode_request(white)\n",
    "\n",
    "# endpoint = \"http://localhost:8080/v2/models/fit/\"\n",
    "# response = requests.post(endpoint, json=training_request.dict(), params=params)\n",
    "\n",
    "import torch\n",
    "\n",
    "\n",
    "from alibi_detect.cd import MMDDriftOnline\n",
    "from sklearn.decomposition import PCA\n",
    "\n",
    "torch.manual_seed(0)\n",
    "np.random.seed(0)\n",
    "\n",
    "pca = PCA(2)\n",
    "pca.fit(white)\n",
    "\n",
    "ert = 50\n",
    "window_size = 10\n",
    "\n",
    "detector = MMDDriftOnline(\n",
    "    white,\n",
    "    ert,\n",
    "    window_size,\n",
    "    backend=\"tensorflow\",\n",
    "    preprocess_fn=pca.transform,\n",
    "    n_bootstraps=2500,\n",
    ")\n"
   ]
  },
  {
   "cell_type": "code",
   "execution_count": 18,
   "metadata": {},
   "outputs": [
    {
     "data": {
      "text/plain": [
       "(5, 11)"
      ]
     },
     "execution_count": 18,
     "metadata": {},
     "output_type": "execute_result"
    }
   ],
   "source": [
    "white.shape"
   ]
  },
  {
   "cell_type": "code",
   "execution_count": 7,
   "metadata": {},
   "outputs": [],
   "source": [
    "columns = white.columns.values.tolist()[:-1]"
   ]
  },
  {
   "cell_type": "code",
   "execution_count": 8,
   "metadata": {},
   "outputs": [],
   "source": [
    "n_white, n_red = white.shape[0], red.shape[0]\n",
    "\n",
    "col_maxes = white.max(axis=0)\n",
    "white, red = white / col_maxes, red / col_maxes\n",
    "\n",
    "white = white.iloc[np.random.permutation(n_white)]\n",
    "red = red.iloc[np.random.permutation(n_red)]\n",
    "\n",
    "X = white[columns]\n",
    "X_corr = red[columns]\n",
    "\n",
    "X_train = X[:(n_white//2)]\n",
    "X_ref = X[(n_white//2):(3*n_white//4)]\n",
    "X_h0 = X[(3*n_white//4):]"
   ]
  },
  {
   "cell_type": "code",
   "execution_count": 9,
   "metadata": {},
   "outputs": [],
   "source": [
    "pca = PCA(2)\n",
    "pca.fit(X_train)"
   ]
  },
  {
   "cell_type": "code",
   "execution_count": null,
   "metadata": {},
   "outputs": [],
   "source": [
    "enc_h0 = pca.transform(X_h0)\n",
    "enc_h1 = pca.transform(X_corr)\n",
    "\n",
    "plt.scatter(enc_h0[:,0], enc_h0[:,1], alpha=0.2, color='green', label='white wine')\n",
    "plt.scatter(enc_h1[:,0], enc_h1[:,1], alpha=0.2, color='red', label='red wine')\n",
    "plt.legend(loc='upper right')\n",
    "plt.show()"
   ]
  },
  {
   "cell_type": "code",
   "execution_count": null,
   "metadata": {},
   "outputs": [],
   "source": []
  },
  {
   "cell_type": "code",
   "execution_count": null,
   "metadata": {},
   "outputs": [],
   "source": [
    "import json\n",
    "\n",
    "X_train = X_train[:10].astype(np.float64)\n",
    "inference_request = PandasCodec.encode_request(X_train)\n",
    "json.dumps(inference_request)"
   ]
  },
  {
   "cell_type": "code",
   "execution_count": null,
   "metadata": {},
   "outputs": [],
   "source": []
  },
  {
   "cell_type": "code",
   "execution_count": null,
   "metadata": {},
   "outputs": [],
   "source": []
  },
  {
   "cell_type": "code",
   "execution_count": null,
   "metadata": {},
   "outputs": [],
   "source": []
  },
  {
   "cell_type": "code",
   "execution_count": 72,
   "metadata": {},
   "outputs": [],
   "source": [
    "# import requests\n",
    "\n",
    "# inference_request = {\n",
    "#     \"inputs\": [\n",
    "#         {\n",
    "#           \"name\": column,\n",
    "#           \"shape\": [10],\n",
    "#           \"datatype\": \"FP32\",\n",
    "#           \"data\": X_train[:10, i].tolist(),\n",
    "#         }\n",
    "#         for i, column in enumerate(columns)\n",
    "        \n",
    "#     ]\n",
    "# }\n",
    "\n",
    "# params = {\n",
    "#     \"detector_name\": \"WineDetector\",\n",
    "#     \"data_type\": \"tabular\",\n",
    "# }\n",
    "\n",
    "# endpoint = \"http://localhost:8080/v2/models/fit/\"\n",
    "# response = requests.post(endpoint, json=inference_request, params=params)\n",
    "\n",
    "# response.json()"
   ]
  },
  {
   "cell_type": "code",
   "execution_count": 77,
   "metadata": {},
   "outputs": [
    {
     "data": {
      "text/plain": [
       "{'inputs': [{'name': 'fixed acidity',\n",
       "   'shape': [10],\n",
       "   'datatype': 'FP32',\n",
       "   'data': [0.51408451795578,\n",
       "    0.49295774102211,\n",
       "    0.5352112650871277,\n",
       "    0.35211268067359924,\n",
       "    0.4225352108478546,\n",
       "    0.6901408433914185,\n",
       "    0.5845070481300354,\n",
       "    0.5422534942626953,\n",
       "    0.5070422291755676,\n",
       "    0.43661969900131226]},\n",
       "  {'name': 'volatile acidity',\n",
       "   'shape': [10],\n",
       "   'datatype': 'FP32',\n",
       "   'data': [0.290909081697464,\n",
       "    0.2818181812763214,\n",
       "    0.12727272510528564,\n",
       "    0.26363635063171387,\n",
       "    0.2545454502105713,\n",
       "    0.8454545140266418,\n",
       "    0.1818181872367859,\n",
       "    0.2818181812763214,\n",
       "    0.16363637149333954,\n",
       "    0.22727271914482117]},\n",
       "  {'name': 'citric acid',\n",
       "   'shape': [10],\n",
       "   'datatype': 'FP32',\n",
       "   'data': [0.21084336936473846,\n",
       "    0.15662650763988495,\n",
       "    0.4457831382751465,\n",
       "    0.32530122995376587,\n",
       "    0.1325301229953766,\n",
       "    0.27108433842658997,\n",
       "    0.4457831382751465,\n",
       "    0.21686747670173645,\n",
       "    0.1867469996213913,\n",
       "    0.28313252329826355]},\n",
       "  {'name': 'residual sugar',\n",
       "   'shape': [10],\n",
       "   'datatype': 'FP32',\n",
       "   'data': [0.021276595070958138,\n",
       "    0.11246199905872345,\n",
       "    0.024316107854247093,\n",
       "    0.08662613481283188,\n",
       "    0.18465043604373932,\n",
       "    0.13069908320903778,\n",
       "    0.06762917339801788,\n",
       "    0.06534954160451889,\n",
       "    0.016717324033379555,\n",
       "    0.1762917935848236]},\n",
       "  {'name': 'chlorides',\n",
       "   'shape': [10],\n",
       "   'datatype': 'FP32',\n",
       "   'data': [0.14450867474079132,\n",
       "    0.1994219720363617,\n",
       "    0.11560694128274918,\n",
       "    0.1011560708284378,\n",
       "    0.1387283354997635,\n",
       "    0.15028902888298035,\n",
       "    0.12716762721538544,\n",
       "    0.07514451444149017,\n",
       "    0.13005781173706055,\n",
       "    0.1387283354997635]},\n",
       "  {'name': 'free sulfur dioxide',\n",
       "   'shape': [10],\n",
       "   'datatype': 'FP32',\n",
       "   'data': [0.027681661769747734,\n",
       "    0.0968858152627945,\n",
       "    0.09342560917139053,\n",
       "    0.18685121834278107,\n",
       "    0.14532871544361115,\n",
       "    0.11764705926179886,\n",
       "    0.1141868531703949,\n",
       "    0.05190311372280121,\n",
       "    0.06920415163040161,\n",
       "    0.21453286707401276]},\n",
       "  {'name': 'total sulfur dioxide',\n",
       "   'shape': [10],\n",
       "   'datatype': 'FP32',\n",
       "   'data': [0.3704545497894287,\n",
       "    0.3636363744735718,\n",
       "    0.2340909093618393,\n",
       "    0.35227271914482117,\n",
       "    0.3704545497894287,\n",
       "    0.42500001192092896,\n",
       "    0.2954545319080353,\n",
       "    0.1977272778749466,\n",
       "    0.16590909659862518,\n",
       "    0.47727271914482117]},\n",
       "  {'name': 'density',\n",
       "   'shape': [10],\n",
       "   'datatype': 'FP32',\n",
       "   'data': [0.955206036567688,\n",
       "    0.9580550193786621,\n",
       "    0.9543975591659546,\n",
       "    0.9526265859603882,\n",
       "    0.9583437442779541,\n",
       "    0.9619049429893494,\n",
       "    0.9551675319671631,\n",
       "    0.9543205499649048,\n",
       "    0.9552637934684753,\n",
       "    0.9594025015830994]},\n",
       "  {'name': 'pH',\n",
       "   'shape': [10],\n",
       "   'datatype': 'FP32',\n",
       "   'data': [0.8481675386428833,\n",
       "    0.81937175989151,\n",
       "    0.8036649227142334,\n",
       "    0.8560209274291992,\n",
       "    0.837696373462677,\n",
       "    0.8167539238929749,\n",
       "    0.8507853746414185,\n",
       "    0.8141360878944397,\n",
       "    0.8691099286079407,\n",
       "    0.8350785374641418]},\n",
       "  {'name': 'sulphates',\n",
       "   'shape': [10],\n",
       "   'datatype': 'FP32',\n",
       "   'data': [0.3888888657093048,\n",
       "    0.4259259104728699,\n",
       "    0.37037035822868347,\n",
       "    0.31481480598449707,\n",
       "    0.4259259104728699,\n",
       "    0.546296238899231,\n",
       "    0.3888888657093048,\n",
       "    0.4444444179534912,\n",
       "    0.37037035822868347,\n",
       "    0.46296295523643494]},\n",
       "  {'name': 'alcohol',\n",
       "   'shape': [10],\n",
       "   'datatype': 'FP32',\n",
       "   'data': [0.7535211443901062,\n",
       "    0.6901408433914185,\n",
       "    0.7605634331703186,\n",
       "    0.9084506630897522,\n",
       "    0.7112676501274109,\n",
       "    0.7183098793029785,\n",
       "    0.8591549396514893,\n",
       "    0.8450704216957092,\n",
       "    0.7605634331703186,\n",
       "    0.6690140962600708]}]}"
      ]
     },
     "execution_count": 77,
     "metadata": {},
     "output_type": "execute_result"
    }
   ],
   "source": [
    "inference_request"
   ]
  },
  {
   "cell_type": "code",
   "execution_count": 76,
   "metadata": {},
   "outputs": [],
   "source": [
    "# inference_request"
   ]
  },
  {
   "cell_type": "code",
   "execution_count": null,
   "metadata": {},
   "outputs": [],
   "source": [
    "def time_run(cd, X, window_size):\n",
    "    n = X.shape[0]\n",
    "    perm = np.random.permutation(n)\n",
    "    t = 0\n",
    "    cd.reset()\n",
    "    while True:\n",
    "        pred = cd.predict(X[perm[t%n]])\n",
    "        if pred['data']['is_drift'] == 1:\n",
    "            return t\n",
    "        else:\n",
    "            t += 1\n"
   ]
  }
 ],
 "metadata": {
  "kernelspec": {
   "display_name": "Python 3.10.6 ('drifting')",
   "language": "python",
   "name": "python3"
  },
  "language_info": {
   "codemirror_mode": {
    "name": "ipython",
    "version": 3
   },
   "file_extension": ".py",
   "mimetype": "text/x-python",
   "name": "python",
   "nbconvert_exporter": "python",
   "pygments_lexer": "ipython3",
   "version": "3.10.6"
  },
  "orig_nbformat": 4,
  "vscode": {
   "interpreter": {
    "hash": "fa3820c577a32a76b2686c7ce3dfa1931316e87d28e8179e3847ace7f712b209"
   }
  }
 },
 "nbformat": 4,
 "nbformat_minor": 2
}
