{
 "cells": [
  {
   "cell_type": "markdown",
   "metadata": {},
   "source": [
    "Covariant shift detection for tabular data \n",
    "\n",
    "This example of feature drift detection for tabular data is inspired by\n",
    "https://docs.seldon.io/projects/alibi-detect/en/latest/examples/cd_online_wine.html\n"
   ]
  },
  {
   "cell_type": "code",
   "execution_count": 25,
   "metadata": {},
   "outputs": [],
   "source": [
    "import sys \n",
    "sys.path.append(\"../../\") # Adding path to project root for this specific notebook"
   ]
  },
  {
   "cell_type": "code",
   "execution_count": 26,
   "metadata": {},
   "outputs": [],
   "source": [
    "import pandas as pd\n",
    "import numpy as np\n",
    "\n",
    "red = pd.read_csv(\n",
    "    \"https://storage.googleapis.com/seldon-datasets/wine_quality/winequality-red.csv\", sep=';'\n",
    ")\n",
    "white = pd.read_csv(\n",
    "    \"https://storage.googleapis.com/seldon-datasets/wine_quality/winequality-white.csv\", sep=';'\n",
    ")\n",
    "white = white.drop([\"quality\"], axis=1)\n",
    "red = red.drop([\"quality\"], axis=1)\n",
    "white = white[:400].astype(np.float64)\n",
    "red = red[:400].astype(np.float64)\n",
    "\n"
   ]
  },
  {
   "cell_type": "code",
   "execution_count": 27,
   "metadata": {},
   "outputs": [
    {
     "data": {
      "text/plain": [
       "<Response [200]>"
      ]
     },
     "execution_count": 27,
     "metadata": {},
     "output_type": "execute_result"
    }
   ],
   "source": [
    "\n",
    "from drifting import DriftingClient, DriftType\n",
    "\n",
    "client = DriftingClient()\n",
    "detector_name = \"WineDriftDetector\"\n",
    "\n",
    "client.fit(white, drift_type=DriftType.TABULAR, detector_name=detector_name)"
   ]
  },
  {
   "cell_type": "code",
   "execution_count": 32,
   "metadata": {},
   "outputs": [
    {
     "data": {
      "text/plain": [
       "<Response [200]>"
      ]
     },
     "execution_count": 32,
     "metadata": {},
     "output_type": "execute_result"
    }
   ],
   "source": [
    "client.load(detector_name=detector_name)"
   ]
  },
  {
   "cell_type": "code",
   "execution_count": 38,
   "metadata": {},
   "outputs": [],
   "source": [
    "red_white_red = pd.concat([red, white, red], axis=0)\n",
    "drifts, stat_vals = [], []\n",
    "for i in range(len(red_white_red)):\n",
    "    is_drift, stat_val = client.predict(red_white_red.iloc[[i], :], drift_type=DriftType.TABULAR, detector_name=detector_name)\n",
    "    # print(response)\n",
    "    stat_vals.append(stat_val)\n",
    "    if is_drift:\n",
    "        # The drift detector indicates after each sample if there is a drift in the data\n",
    "        drifts.append(i)\n"
   ]
  },
  {
   "cell_type": "code",
   "execution_count": 43,
   "metadata": {},
   "outputs": [
    {
     "data": {
      "text/plain": [
       "[<matplotlib.lines.Line2D at 0x17700d9f0>]"
      ]
     },
     "execution_count": 43,
     "metadata": {},
     "output_type": "execute_result"
    },
    {
     "data": {
      "image/png": "[encoded data removed]",
      "text/plain": [
       "<Figure size 700x300 with 1 Axes>"
      ]
     },
     "metadata": {},
     "output_type": "display_data"
    }
   ],
   "source": [
    "import matplotlib.pyplot as plt\n",
    "\n",
    "fig = plt.figure(figsize=(7,3), tight_layout=True)\n",
    "\n",
    "detections = np.zeros((len(red_white_red, )))\n",
    "detections[drifts] = 1\n",
    "plt.plot(detections)\n",
    "plt.plot(stat_vals, 'r')\n"
   ]
  },
  {
   "cell_type": "code",
   "execution_count": null,
   "metadata": {},
   "outputs": [],
   "source": []
  },
  {
   "cell_type": "code",
   "execution_count": null,
   "metadata": {},
   "outputs": [],
   "source": []
  }
 ],
 "metadata": {
  "kernelspec": {
   "display_name": "Python 3.10.6 ('drifting')",
   "language": "python",
   "name": "python3"
  },
  "language_info": {
   "codemirror_mode": {
    "name": "ipython",
    "version": 3
   },
   "file_extension": ".py",
   "mimetype": "text/x-python",
   "name": "python",
   "nbconvert_exporter": "python",
   "pygments_lexer": "ipython3",
   "version": "3.10.6"
  },
  "orig_nbformat": 4,
  "vscode": {
   "interpreter": {
    "hash": "fa3820c577a32a76b2686c7ce3dfa1931316e87d28e8179e3847ace7f712b209"
   }
  }
 },
 "nbformat": 4,
 "nbformat_minor": 2
}
