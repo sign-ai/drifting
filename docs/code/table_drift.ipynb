{
 "cells": [
  {
   "cell_type": "markdown",
   "metadata": {},
   "source": [
    "Covariant shift detection for tabular data \n",
    "\n",
    "This example of feature drift detection for tabular data is inspired by\n",
    "https://docs.seldon.io/projects/alibi-detect/en/latest/examples/cd_online_wine.html\n"
   ]
  },
  {
   "cell_type": "code",
   "execution_count": 4,
   "metadata": {},
   "outputs": [],
   "source": [
    "import sys \n",
    "sys.path.append(\"../../\") # Adding path to project root for this specific notebook"
   ]
  },
  {
   "cell_type": "code",
   "execution_count": 5,
   "metadata": {},
   "outputs": [],
   "source": [
    "import pandas as pd\n",
    "import numpy as np\n",
    "\n",
    "red = pd.read_csv(\n",
    "    \"https://storage.googleapis.com/seldon-datasets/wine_quality/winequality-red.csv\", sep=';'\n",
    ")\n",
    "white = pd.read_csv(\n",
    "    \"https://storage.googleapis.com/seldon-datasets/wine_quality/winequality-white.csv\", sep=';'\n",
    ")\n",
    "white = white.drop([\"quality\"], axis=1)\n",
    "red = red.drop([\"quality\"], axis=1)\n",
    "white = white[:500].astype(np.float64)\n",
    "red = red[:500].astype(np.float64)\n",
    "\n"
   ]
  },
  {
   "cell_type": "code",
   "execution_count": 10,
   "metadata": {},
   "outputs": [
    {
     "data": {
      "text/plain": [
       "<Response [500]>"
      ]
     },
     "execution_count": 10,
     "metadata": {},
     "output_type": "execute_result"
    }
   ],
   "source": [
    "\n",
    "from drifting import DriftingClient, DriftType\n",
    "\n",
    "client = DriftingClient()\n",
    "detector_name = \"WineDriftDetector\"\n",
    "\n",
    "client.fit(white, drift_type=DriftType.TABULAR, detector_name=detector_name)"
   ]
  },
  {
   "cell_type": "code",
   "execution_count": 9,
   "metadata": {},
   "outputs": [
    {
     "ename": "HTTPError",
     "evalue": "404 Client Error: Not Found for url: http://localhost:8080/v2/repository/models/WineDriftDetector/load",
     "output_type": "error",
     "traceback": [
      "\u001b[0;31m---------------------------------------------------------------------------\u001b[0m",
      "\u001b[0;31mHTTPError\u001b[0m                                 Traceback (most recent call last)",
      "Cell \u001b[0;32mIn[9], line 1\u001b[0m\n\u001b[0;32m----> 1\u001b[0m \u001b[43mclient\u001b[49m\u001b[38;5;241;43m.\u001b[39;49m\u001b[43mload\u001b[49m\u001b[43m(\u001b[49m\u001b[43mdetector_name\u001b[49m\u001b[38;5;241;43m=\u001b[39;49m\u001b[43mdetector_name\u001b[49m\u001b[43m)\u001b[49m\n",
      "File \u001b[0;32m~/projects/drifting/docs/code/../../drifting/drifting_client.py:127\u001b[0m, in \u001b[0;36mDriftingClient.load\u001b[0;34m(self, detector_name)\u001b[0m\n\u001b[1;32m    123\u001b[0m endpoint \u001b[39m=\u001b[39m (\n\u001b[1;32m    124\u001b[0m     \u001b[39mf\u001b[39m\u001b[39m\"\u001b[39m\u001b[39m{\u001b[39;00m\u001b[39mself\u001b[39m\u001b[39m.\u001b[39mhost\u001b[39m}\u001b[39;00m\u001b[39m/\u001b[39m\u001b[39m{\u001b[39;00mDATA_PLANE_VERSION\u001b[39m}\u001b[39;00m\u001b[39m/repository/models/\u001b[39m\u001b[39m{\u001b[39;00mdetector_name\u001b[39m}\u001b[39;00m\u001b[39m/load\u001b[39m\u001b[39m\"\u001b[39m\n\u001b[1;32m    125\u001b[0m )\n\u001b[1;32m    126\u001b[0m response \u001b[39m=\u001b[39m requests\u001b[39m.\u001b[39mpost(endpoint, timeout\u001b[39m=\u001b[39m\u001b[39mself\u001b[39m\u001b[39m.\u001b[39mregular_timeout)\n\u001b[0;32m--> 127\u001b[0m response\u001b[39m.\u001b[39;49mraise_for_status()\n\u001b[1;32m    128\u001b[0m \u001b[39mreturn\u001b[39;00m response\n",
      "File \u001b[0;32m/opt/homebrew/Caskroom/miniforge/base/envs/drifting/lib/python3.10/site-packages/requests/models.py:1021\u001b[0m, in \u001b[0;36mResponse.raise_for_status\u001b[0;34m(self)\u001b[0m\n\u001b[1;32m   1016\u001b[0m     http_error_msg \u001b[39m=\u001b[39m (\n\u001b[1;32m   1017\u001b[0m         \u001b[39mf\u001b[39m\u001b[39m\"\u001b[39m\u001b[39m{\u001b[39;00m\u001b[39mself\u001b[39m\u001b[39m.\u001b[39mstatus_code\u001b[39m}\u001b[39;00m\u001b[39m Server Error: \u001b[39m\u001b[39m{\u001b[39;00mreason\u001b[39m}\u001b[39;00m\u001b[39m for url: \u001b[39m\u001b[39m{\u001b[39;00m\u001b[39mself\u001b[39m\u001b[39m.\u001b[39murl\u001b[39m}\u001b[39;00m\u001b[39m\"\u001b[39m\n\u001b[1;32m   1018\u001b[0m     )\n\u001b[1;32m   1020\u001b[0m \u001b[39mif\u001b[39;00m http_error_msg:\n\u001b[0;32m-> 1021\u001b[0m     \u001b[39mraise\u001b[39;00m HTTPError(http_error_msg, response\u001b[39m=\u001b[39m\u001b[39mself\u001b[39m)\n",
      "\u001b[0;31mHTTPError\u001b[0m: 404 Client Error: Not Found for url: http://localhost:8080/v2/repository/models/WineDriftDetector/load"
     ]
    }
   ],
   "source": [
    "client.load(detector_name=detector_name)"
   ]
  },
  {
   "cell_type": "code",
   "execution_count": 27,
   "metadata": {},
   "outputs": [],
   "source": [
    "\n",
    "drifts = []\n",
    "for i in range(len(red)):\n",
    "    is_drift, stat_val = client.predict(red.iloc[[i], :], drift_type=DriftType.TABULAR, detector_name=detector_name)\n",
    "    # print(response)\n",
    "    if is_drift:\n",
    "        # The drift detector indicates after each sample if there is a drift in the data\n",
    "        print(f'Change detected at index {i}')\n",
    "        drifts.append(i)\n",
    "    break\n"
   ]
  },
  {
   "cell_type": "code",
   "execution_count": null,
   "metadata": {},
   "outputs": [],
   "source": [
    "def time_run(cd, X):\n",
    "    n = X.shape[0]\n",
    "    perm = np.random.permutation(n)\n",
    "    t = 0\n",
    "    cd.reset_state()\n",
    "    while True:\n",
    "        pred = cd.predict(X[perm[t%n]])\n",
    "        if pred['data']['is_drift'] == 1:\n",
    "            return t\n",
    "        else:\n",
    "            t += 1"
   ]
  },
  {
   "cell_type": "code",
   "execution_count": null,
   "metadata": {},
   "outputs": [],
   "source": [
    "ert = 50\n",
    "n_runs = 250\n",
    "times_h0 = [time_run(cd, X_h0) for _ in range(n_runs)]\n",
    "print(f\"Average run-time under no-drift: {np.mean(times_h0)}\")\n",
    "_ = scipy.stats.probplot(np.array(times_h0), dist=scipy.stats.geom, sparams=1/ert, plot=plt)"
   ]
  },
  {
   "cell_type": "code",
   "execution_count": null,
   "metadata": {},
   "outputs": [],
   "source": [
    "ert = 50\n",
    "n_runs = 250\n",
    "times_h1 = [time_run(cd, X_corr) for _ in range(n_runs)]\n",
    "print(f\"Average run-time under drift: {np.mean(times_h1)}\")"
   ]
  }
 ],
 "metadata": {
  "kernelspec": {
   "display_name": "Python 3.10.6 ('drifting')",
   "language": "python",
   "name": "python3"
  },
  "language_info": {
   "codemirror_mode": {
    "name": "ipython",
    "version": 3
   },
   "file_extension": ".py",
   "mimetype": "text/x-python",
   "name": "python",
   "nbconvert_exporter": "python",
   "pygments_lexer": "ipython3",
   "version": "3.10.6"
  },
  "orig_nbformat": 4,
  "vscode": {
   "interpreter": {
    "hash": "fa3820c577a32a76b2686c7ce3dfa1931316e87d28e8179e3847ace7f712b209"
   }
  }
 },
 "nbformat": 4,
 "nbformat_minor": 2
}
