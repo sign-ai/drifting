{
 "cells": [
  {
   "cell_type": "markdown",
   "metadata": {},
   "source": [
    "This example is inspired by\n",
    "https://docs.seldon.io/projects/alibi-detect/en/latest/examples/cd_online_wine.html\n"
   ]
  },
  {
   "cell_type": "code",
   "execution_count": 15,
   "metadata": {},
   "outputs": [],
   "source": [
    "import pandas as pd\n",
    "import numpy as np\n",
    "import requests\n",
    "from mlserver.codecs import PandasCodec\n",
    "\n",
    "red = pd.read_csv(\n",
    "    \"https://storage.googleapis.com/seldon-datasets/wine_quality/winequality-red.csv\", sep=';'\n",
    ")\n",
    "white = pd.read_csv(\n",
    "    \"https://storage.googleapis.com/seldon-datasets/wine_quality/winequality-white.csv\", sep=';'\n",
    ")\n",
    "white = white.drop([\"quality\"], axis=1)\n",
    "red = red.drop([\"quality\"], axis=1)\n",
    "white = white[:500].astype(np.float64)\n",
    "red = red[:500].astype(np.float64)\n",
    "\n"
   ]
  },
  {
   "cell_type": "code",
   "execution_count": 12,
   "metadata": {},
   "outputs": [],
   "source": [
    "\n",
    "import requests\n",
    "from mlserver.codecs import NumpyRequestCodec\n",
    "\n",
    "detector_name = \"WineDriftDetector\"\n",
    "params = {\n",
    "    \"detector_name\": detector_name,\n",
    "    \"drift_type\": \"tabular\",\n",
    "}\n",
    "training_request = PandasCodec.encode_request(white)\n",
    "\n",
    "endpoint = \"http://localhost:8080/v2/models/fit/\"\n",
    "response = requests.post(endpoint, json=training_request.dict(), params=params)\n"
   ]
  },
  {
   "cell_type": "code",
   "execution_count": 14,
   "metadata": {},
   "outputs": [],
   "source": [
    "\n",
    "endpoint = f\"http://localhost:8080/v2/repository/models/{detector_name}/load\"\n",
    "response = requests.post(endpoint)"
   ]
  },
  {
   "cell_type": "code",
   "execution_count": 27,
   "metadata": {},
   "outputs": [],
   "source": [
    "\n",
    "endpoint = f\"http://localhost:8080/v2/models/{detector_name}/infer\"\n",
    "\n",
    "drifts = []\n",
    "for i in range(len(red)):\n",
    "    test_request = PandasCodec.encode_request(red.iloc[[i], :])\n",
    "    response = requests.post(endpoint, json=test_request.dict(), params=params).json()\n",
    "    # print(response)\n",
    "    if response[\"outputs\"][0][\"data\"][0]:\n",
    "        # The drift detector indicates after each sample if there is a drift in the data\n",
    "        print(f'Change detected at index {i}')\n",
    "        drifts.append(i)\n",
    "    break\n"
   ]
  },
  {
   "cell_type": "code",
   "execution_count": 28,
   "metadata": {},
   "outputs": [
    {
     "data": {
      "text/plain": [
       "{'model_name': 'WineDriftDetector',\n",
       " 'id': 'bba28a76-ddea-49b3-8568-3560056ae75b',\n",
       " 'parameters': {'online': True,\n",
       "  'backend': 'pytorch',\n",
       "  'version_warning': False,\n",
       "  'detector_type': 'drift',\n",
       "  'name': 'MMDDriftOnlineTorch',\n",
       "  'version': '0.11.0'},\n",
       " 'outputs': [{'name': 'is_drift',\n",
       "   'shape': [1, 1],\n",
       "   'datatype': 'INT64',\n",
       "   'data': [0]},\n",
       "  {'name': 'distance', 'shape': [1, 1], 'datatype': 'BYTES', 'data': [None]},\n",
       "  {'name': 'p_val', 'shape': [1, 1], 'datatype': 'BYTES', 'data': [None]},\n",
       "  {'name': 'threshold',\n",
       "   'shape': [1, 1],\n",
       "   'datatype': 'FP64',\n",
       "   'data': [0.09148103156293008]},\n",
       "  {'name': 'time', 'shape': [1, 1], 'datatype': 'INT64', 'data': [2]},\n",
       "  {'name': 'ert', 'shape': [1, 1], 'datatype': 'FP64', 'data': [50.0]},\n",
       "  {'name': 'test_stat',\n",
       "   'shape': [1, 1],\n",
       "   'datatype': 'FP64',\n",
       "   'data': [0.021385254789165864]}]}"
      ]
     },
     "execution_count": 28,
     "metadata": {},
     "output_type": "execute_result"
    }
   ],
   "source": [
    "response"
   ]
  },
  {
   "cell_type": "code",
   "execution_count": null,
   "metadata": {},
   "outputs": [],
   "source": [
    "def time_run(cd, X):\n",
    "    n = X.shape[0]\n",
    "    perm = np.random.permutation(n)\n",
    "    t = 0\n",
    "    cd.reset_state()\n",
    "    while True:\n",
    "        pred = cd.predict(X[perm[t%n]])\n",
    "        if pred['data']['is_drift'] == 1:\n",
    "            return t\n",
    "        else:\n",
    "            t += 1"
   ]
  },
  {
   "cell_type": "code",
   "execution_count": null,
   "metadata": {},
   "outputs": [],
   "source": [
    "ert = 50\n",
    "n_runs = 250\n",
    "times_h0 = [time_run(cd, X_h0) for _ in range(n_runs)]\n",
    "print(f\"Average run-time under no-drift: {np.mean(times_h0)}\")\n",
    "_ = scipy.stats.probplot(np.array(times_h0), dist=scipy.stats.geom, sparams=1/ert, plot=plt)"
   ]
  },
  {
   "cell_type": "code",
   "execution_count": null,
   "metadata": {},
   "outputs": [],
   "source": [
    "ert = 50\n",
    "n_runs = 250\n",
    "times_h1 = [time_run(cd, X_corr) for _ in range(n_runs)]\n",
    "print(f\"Average run-time under drift: {np.mean(times_h1)}\")"
   ]
  }
 ],
 "metadata": {
  "kernelspec": {
   "display_name": "Python 3.10.6 ('drifting')",
   "language": "python",
   "name": "python3"
  },
  "language_info": {
   "codemirror_mode": {
    "name": "ipython",
    "version": 3
   },
   "file_extension": ".py",
   "mimetype": "text/x-python",
   "name": "python",
   "nbconvert_exporter": "python",
   "pygments_lexer": "ipython3",
   "version": "3.10.6"
  },
  "orig_nbformat": 4,
  "vscode": {
   "interpreter": {
    "hash": "fa3820c577a32a76b2686c7ce3dfa1931316e87d28e8179e3847ace7f712b209"
   }
  }
 },
 "nbformat": 4,
 "nbformat_minor": 2
}
