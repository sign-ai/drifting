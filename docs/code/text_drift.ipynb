{
 "cells": [
  {
   "cell_type": "markdown",
   "metadata": {},
   "source": [
    "# Text drift detection \n",
    "\n",
    "We are going to see if we can spot the difference between different \n",
    "20newsgroups dataset. \n",
    "\n",
    "We can easily download sentences:"
   ]
  },
  {
   "cell_type": "code",
   "execution_count": 71,
   "metadata": {},
   "outputs": [],
   "source": [
    "import sys \n",
    "sys.path.append(\"../../\") # Adding path to project root for this specific notebook"
   ]
  },
  {
   "cell_type": "code",
   "execution_count": 72,
   "metadata": {},
   "outputs": [],
   "source": [
    "import pandas as pd\n",
    "import numpy as np\n",
    "from sklearn.datasets import fetch_20newsgroups\n",
    "\n",
    "train_space = fetch_20newsgroups(subset='train', categories=[\"sci.space\"])[\"data\"]\n",
    "test_space = fetch_20newsgroups(subset='test', categories=[\"sci.space\"])[\"data\"]\n",
    "train_electronics = fetch_20newsgroups(subset='train', categories=[\"sci.electronics\"])[\"data\"]\n",
    "train_talk = fetch_20newsgroups(subset='train', categories=[\"talk.politics.mideast\"])[\"data\"]\n"
   ]
  },
  {
   "cell_type": "markdown",
   "metadata": {},
   "source": [
    "Let's see the example sentences from two of them:"
   ]
  },
  {
   "cell_type": "code",
   "execution_count": 73,
   "metadata": {},
   "outputs": [
    {
     "data": {
      "text/plain": [
       "'From: smortaz@handel.sun.com (shahrokh mortazavi)\\nSubject: Re: News briefs from KH # 1025\\nOrganization: Central\\nLines: 18\\n\\nIn article <1qg1gdINNge7@anaconda.cis.ohio-state.edu> karbasi@cis.ohio-state.edu writes:\\n\\n>\\n>\\t1- \"nehzat-e aazaadee\"\\'s member have many times been arrested\\n>\\tand tortured and as we speak some of them are still in prison.\\n>\\n>\\t2- The above item confirms the long standing suspicion that \\n>\\tthe only reason this regime has not destroyed \"nehzat-e\\n>\\taazaadee\" completely is just to show off and brag about the\\n>\\t\"freedom of expression in Iran\" in its propaganda paper.\\n>\\n>\\tGet serious!  If this regime had its way, there would be \\n>\\tabsolutely no freedom of expression anywhere, not even in SCI.  \\n\\t\\t\\t\\t\\t\\t      ^^^^^^^^^^^^^^^\\n\\nthere really isnt, as seen by the heavy usage of anonymous posting.  \\nif iri sympathizers didnt roam around in sci, anon-poster would \\nget used only occasionally (as in the good old days).\\n'"
      ]
     },
     "execution_count": 73,
     "metadata": {},
     "output_type": "execute_result"
    }
   ],
   "source": [
    "train_talk[0]"
   ]
  },
  {
   "cell_type": "code",
   "execution_count": 74,
   "metadata": {},
   "outputs": [
    {
     "data": {
      "text/plain": [
       "\"From: henry@zoo.toronto.edu (Henry Spencer)\\nSubject: Re: japanese moon landing?\\nOrganization: U of Toronto Zoology\\nLines: 21\\n\\nIn article <1qnb9tINN7ff@rave.larc.nasa.gov> C.O.EGALON@LARC.NASA.GOV (CLAUDIO OLIVEIRA EGALON) writes:\\n>> there is no such thing as a stable lunar orbit\\n>\\n>Is it right??? That is new stuff for me. So it means that  you just can \\n>not put a sattellite around around the Moon for too long because its \\n>orbit will be unstable??? If so, what is the reason??? Is that because \\n>the combined gravitacional atraction of the Sun,Moon and Earth \\n>that does not provide a stable  orbit around the Moon???\\n\\nAny lunar satellite needs fuel to do regular orbit corrections, and when\\nits fuel runs out it will crash within months.  The orbits of the Apollo\\nmotherships changed noticeably during lunar missions lasting only a few\\ndays.  It is *possible* that there are stable orbits here and there --\\nthe Moon's gravitational field is poorly mapped -- but we know of none.\\n\\nPerturbations from Sun and Earth are relatively minor issues at low\\naltitudes.  The big problem is that the Moon's own gravitational field\\nis quite lumpy due to the irregular distribution of mass within the Moon.\\n-- \\nAll work is one man's work.             | Henry Spencer @ U of Toronto Zoology\\n                    - Kipling           |  henry@zoo.toronto.edu  utzoo!henry\\n\""
      ]
     },
     "execution_count": 74,
     "metadata": {},
     "output_type": "execute_result"
    }
   ],
   "source": [
    "train_space[0]"
   ]
  },
  {
   "cell_type": "code",
   "execution_count": 75,
   "metadata": {},
   "outputs": [
    {
     "data": {
      "text/plain": [
       "\"From: rogerw@world.std.com (Roger A Williams)\\nSubject: Re: 68HC16 public domain software?\\nOrganization: The World Public Access UNIX, Brookline, MA\\nLines: 1\\n\\nDoesn't Motorola AMCU have something on the BBS yet? (512-891-3733)\\n\""
      ]
     },
     "execution_count": 75,
     "metadata": {},
     "output_type": "execute_result"
    }
   ],
   "source": [
    "train_electronics[0]"
   ]
  },
  {
   "cell_type": "markdown",
   "metadata": {},
   "source": [
    "What we want to do is we want to train drift detector on training `space` data,\n",
    "and see, if testing `space` data will not be detected as a different\n",
    "distribution.\n",
    "\n",
    "After that, we want to see that `electronics` data is a different distribution,\n",
    "however more similar than `talk` distribution. \n",
    "\n",
    "A successful experiment will show the differences clearly.\n",
    "\n",
    "Let's initialize the client:"
   ]
  },
  {
   "cell_type": "code",
   "execution_count": 76,
   "metadata": {},
   "outputs": [],
   "source": [
    "from drifting import DriftingClient, DriftType\n",
    "\n",
    "client = DriftingClient()\n",
    "detector_name = \"SpaceTextDrift\""
   ]
  },
  {
   "cell_type": "markdown",
   "metadata": {},
   "source": [
    "Now we fit the detector on training `space` data and load it:"
   ]
  },
  {
   "cell_type": "code",
   "execution_count": 77,
   "metadata": {},
   "outputs": [
    {
     "data": {
      "text/plain": [
       "<Response [200]>"
      ]
     },
     "execution_count": 77,
     "metadata": {},
     "output_type": "execute_result"
    }
   ],
   "source": [
    "client.fit(train_space, drift_type=DriftType.TEXT, detector_name=detector_name)"
   ]
  },
  {
   "cell_type": "code",
   "execution_count": 78,
   "metadata": {},
   "outputs": [
    {
     "data": {
      "text/plain": [
       "<Response [200]>"
      ]
     },
     "execution_count": 78,
     "metadata": {},
     "output_type": "execute_result"
    }
   ],
   "source": [
    "client.load(detector_name)"
   ]
  },
  {
   "cell_type": "markdown",
   "metadata": {},
   "source": [
    "The last part is to run the detector on each set. We will test it on both\n",
    "`space` datasets hoping it will not classify them as drifted.\n",
    "All the sets are concatenated, we pass the sentence one by one, imitating\n",
    "the real use-case in online system."
   ]
  },
  {
   "cell_type": "code",
   "execution_count": 79,
   "metadata": {},
   "outputs": [],
   "source": [
    "all_sets = train_space + test_space + train_electronics + train_talk\n",
    "drifts, test_stats = [], []\n",
    "for i in range(len(all_sets)):\n",
    "    is_drift, test_stat = client.predict(\n",
    "        [all_sets[i]], drift_type=DriftType.TEXT, detector_name=detector_name\n",
    "    )\n",
    "    # print(response)\n",
    "    test_stats.append(test_stat)\n",
    "    if is_drift:\n",
    "        # The drift detector indicates after each sample if there is a drift in the data\n",
    "        drifts.append(i)\n"
   ]
  },
  {
   "cell_type": "code",
   "execution_count": 80,
   "metadata": {},
   "outputs": [
    {
     "data": {
      "text/plain": [
       "Text(0.5, 1.0, 'Detections on different datasets')"
      ]
     },
     "execution_count": 80,
     "metadata": {},
     "output_type": "execute_result"
    },
    {
     "data": {
      "image/png": "[encoded data removed]",
      "text/plain": [
       "<Figure size 700x400 with 1 Axes>"
      ]
     },
     "metadata": {},
     "output_type": "display_data"
    }
   ],
   "source": [
    "import matplotlib.pyplot as plt\n",
    "\n",
    "fig = plt.figure(figsize=(7,4), tight_layout=True)\n",
    "\n",
    "detections = np.zeros((len(all_sets, )))\n",
    "detections[drifts] = 1\n",
    "plt.plot(detections, \"o\")\n",
    "plt.plot(test_stats, 'orange', label=\"test statistic\")\n",
    "plt.axvline(0, color='red', label=\"start of training data\")\n",
    "plt.axvline(len(train_space), color='green', label=\"start of testing data\")\n",
    "plt.axvline(len(train_space)+len(test_space), color='yellow', label=\"start of eletronics data\")\n",
    "plt.axvline(len(train_space)+len(test_space)+len(train_electronics), color='magenta', label=\"start of talk data\")\n",
    "plt.legend(loc='upper right', bbox_to_anchor=(1,-0.1))\n",
    "plt.title(\"Detections on different datasets\")\n"
   ]
  },
  {
   "cell_type": "markdown",
   "metadata": {},
   "source": [
    "As we can see, detector noticed both training and testing `space` sentences come\n",
    "from the same distribution, whereas `electronics` and `talk` data are drifted."
   ]
  },
  {
   "cell_type": "code",
   "execution_count": null,
   "metadata": {},
   "outputs": [],
   "source": []
  }
 ],
 "metadata": {
  "kernelspec": {
   "display_name": "Python 3.9.10 ('venv': venv)",
   "language": "python",
   "name": "python3"
  },
  "language_info": {
   "codemirror_mode": {
    "name": "ipython",
    "version": 3
   },
   "file_extension": ".py",
   "mimetype": "text/x-python",
   "name": "python",
   "nbconvert_exporter": "python",
   "pygments_lexer": "ipython3",
   "version": "3.9.10"
  },
  "orig_nbformat": 4,
  "vscode": {
   "interpreter": {
    "hash": "33fc884cf64a6b1e1f885aa0d38bdf12783b92b6c6ff5953f873d8545fdfec00"
   }
  }
 },
 "nbformat": 4,
 "nbformat_minor": 2
}
